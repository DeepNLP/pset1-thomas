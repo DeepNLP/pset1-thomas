{
 "cells": [
  {
   "cell_type": "code",
   "execution_count": 1,
   "metadata": {
    "collapsed": true
   },
   "outputs": [],
   "source": [
    "import numpy as np\n",
    "import random\n",
    "\n",
    "from cs224d.data_utils import *\n",
    "\n",
    "from q1_softmax import softmax\n",
    "from q2_gradcheck import gradcheck_naive\n",
    "from q3_sgd import load_saved_params\n",
    "\n",
    "def getSentenceFeature(tokens, wordVectors, sentence):\n",
    "    \"\"\" Obtain the sentence feature for sentiment analysis by averaging its word vectors \"\"\"\n",
    "    # Implement computation for the sentence features given a sentence.                                                       \n",
    "    \n",
    "    # Inputs:                                                         \n",
    "    # - tokens: a dictionary that maps words to their indices in    \n",
    "    #          the word vector list                                \n",
    "    # - wordVectors: word vectors (each row) for all tokens                \n",
    "    # - sentence: a list of words in the sentence of interest \n",
    "\n",
    "    # Output:                                                         \n",
    "    # - sentVector: feature vector for the sentence    \n",
    "    \n",
    "    sentVector = np.zeros((wordVectors.shape[1],))\n",
    "    \n",
    "    ### YOUR CODE HERE\n",
    "    for word in sentence:\n",
    "    \tsentVector += wordVectors[tokens[word]]\n",
    "    sentVector /= len(sentence)\n",
    "    ### END YOUR CODE\n",
    "    \n",
    "    return sentVector\n"
   ]
  },
  {
   "cell_type": "code",
   "execution_count": 2,
   "metadata": {
    "collapsed": true
   },
   "outputs": [],
   "source": [
    "    random.seed(314159)\n",
    "    np.random.seed(265)\n",
    "\n",
    "    dataset = StanfordSentiment()\n",
    "    tokens = dataset.tokens()\n",
    "    nWords = len(tokens)\n",
    "\n",
    "    _, wordVectors0, _ = load_saved_params()\n",
    "    wordVectors = (wordVectors0[:nWords,:] + wordVectors0[nWords:,:])\n",
    "    dimVectors = wordVectors.shape[1]\n",
    "\n",
    "    dummy_weights = 0.1 * np.random.randn(dimVectors, 5)\n",
    "    dummy_features = np.zeros((10, dimVectors))\n",
    "    dummy_labels = np.zeros((10,), dtype=np.int32)    \n",
    "    for i in xrange(10):\n",
    "        words, dummy_labels[i] = dataset.getRandomTrainSentence()\n",
    "        dummy_features[i, :] = getSentenceFeature(tokens, wordVectors, words)\n"
   ]
  },
  {
   "cell_type": "code",
   "execution_count": 19,
   "metadata": {
    "collapsed": false
   },
   "outputs": [],
   "source": [
    "features = dummy_features\n",
    "labels = dummy_labels\n",
    "weights = dummy_weights\n",
    "regularization = 1"
   ]
  },
  {
   "cell_type": "code",
   "execution_count": 20,
   "metadata": {
    "collapsed": false
   },
   "outputs": [],
   "source": [
    "    prob = softmax(features.dot(weights))\n",
    "    if len(features.shape) > 1:\n",
    "        N = features.shape[0]\n",
    "    else:\n",
    "        N = 1\n",
    "    # A vectorized implementation of    1/N * sum(cross_entropy(x_i, y_i)) + 1/2*|w|^2\n",
    "    cost = np.sum(-np.log(prob[range(N), labels])) / N \n",
    "    cost += 0.5 * regularization * np.sum(weights ** 2)\n"
   ]
  },
  {
   "cell_type": "code",
   "execution_count": 27,
   "metadata": {
    "collapsed": false
   },
   "outputs": [],
   "source": [
    "    D = features.shape[1]\n",
    "    grad = regularization * weights\n",
    "    for n in range(N):\n",
    "    \tgrad += np.outer(features[n], prob[n]) / N\n",
    "    \tgrad[:, labels[n]] -= features[n] / N\n",
    "\n"
   ]
  },
  {
   "cell_type": "code",
   "execution_count": 30,
   "metadata": {
    "collapsed": false
   },
   "outputs": [
    {
     "data": {
      "text/plain": [
       "(10, 5)"
      ]
     },
     "execution_count": 30,
     "metadata": {},
     "output_type": "execute_result"
    }
   ],
   "source": [
    "grad.shape"
   ]
  },
  {
   "cell_type": "code",
   "execution_count": 31,
   "metadata": {
    "collapsed": false
   },
   "outputs": [],
   "source": [
    "import numpy as np\n",
    "import matplotlib.pyplot as plt"
   ]
  },
  {
   "cell_type": "code",
   "execution_count": 42,
   "metadata": {
    "collapsed": true
   },
   "outputs": [],
   "source": [
    "results = [{\n",
    "        \"reg\": 1.000000E-08,\n",
    "        \"weights\": weights,\n",
    "        \"train\": 29.412453,\n",
    "        \"dev\": 30.245232},\n",
    "           {\n",
    "        \"reg\": 1.000000E-07,\n",
    "        \"weights\": weights,\n",
    "        \"train\": 29.412453,\n",
    "        \"dev\": 30.245232},\n",
    "           {\n",
    "        \"reg\": 1.000000E-06,\n",
    "        \"weights\": weights,\n",
    "        \"train\": 29.400749,\n",
    "        \"dev\": 30.336058},\n",
    "           {\n",
    "        \"reg\": 1.000000E-05,\n",
    "        \"weights\": weights,\n",
    "        \"train\": 29.272004,\n",
    "        \"dev\": 30.699364},\n",
    "           {\n",
    "        \"reg\": 5.000000E-05,\n",
    "        \"weights\": weights,\n",
    "        \"train\": 29.272004,\n",
    "        \"dev\": 30.971844},\n",
    "           {\n",
    "        \"reg\": 7.000000E-05,\n",
    "        \"weights\": weights,\n",
    "        \"train\": 29.166667,\n",
    "        \"dev\": 31.244323},\n",
    "           {\n",
    "        \"reg\": 9.000000E-05,\n",
    "        \"weights\": weights,\n",
    "        \"train\": 29.201779,\n",
    "        \"dev\": 31.244323},\n",
    "           {\n",
    "        \"reg\": 1.000000E-04,\n",
    "        \"weights\": weights,\n",
    "        \"train\": 29.119850,\n",
    "        \"dev\": 31.425976},\n",
    "           {\n",
    "        \"reg\": 1.100000E-04,\n",
    "        \"weights\": weights,\n",
    "        \"train\": 29.073034,\n",
    "        \"dev\": 31.062670},\n",
    "           {\n",
    "        \"reg\": 1.200000E-04,\n",
    "        \"weights\": weights,\n",
    "        \"train\": 29.014513,\n",
    "        \"dev\": 30.336058},\n",
    "           {\n",
    "        \"reg\": 2.000000E-04,\n",
    "        \"weights\": weights,\n",
    "        \"train\": 29.026217,\n",
    "        \"dev\": 30.426885},\n",
    "           {\n",
    "        \"reg\": 5.000000E-04,\n",
    "        \"weights\": weights,\n",
    "        \"train\": 28.007959,\n",
    "        \"dev\": 26.612171},\n",
    "           {\n",
    "        \"reg\": 1.000000E-03,\n",
    "        \"weights\": weights,\n",
    "        \"train\": 27.375936,\n",
    "        \"dev\": 25.522252},\n",
    "          {\n",
    "        \"reg\": 1.000000E-02,\n",
    "        \"weights\": weights,\n",
    "        \"train\": 27.247191,\n",
    "        \"dev\": 25.522252},\n",
    "           {\n",
    "        \"reg\": 1.000000E-01,\n",
    "        \"weights\": weights,\n",
    "        \"train\": 27.247191,\n",
    "        \"dev\": 25.522252},\n",
    "           {\n",
    "        \"reg\": 1.000000E-00,\n",
    "        \"weights\": weights,\n",
    "        \"train\": 12.816011,\n",
    "        \"dev\": 12.806540} ]"
   ]
  },
  {
   "cell_type": "code",
   "execution_count": 43,
   "metadata": {
    "collapsed": false
   },
   "outputs": [
    {
     "data": {
      "image/png": "[encoded data removed]",
      "text/plain": [
       "<matplotlib.figure.Figure at 0x10de6f790>"
      ]
     },
     "metadata": {},
     "output_type": "display_data"
    }
   ],
   "source": [
    "plt.plot([x[\"reg\"] for x in results], [x[\"train\"] for x in results],'-o')\n",
    "plt.plot([x[\"reg\"] for x in results], [x[\"dev\"] for x in results],'-o')\n",
    "plt.xscale('log')\n",
    "plt.xlabel(\"regularization\")\n",
    "plt.ylabel(\"accuracy\")\n",
    "plt.legend(['train', 'dev'], loc='lower left')\n",
    "plt.savefig(\"q4_reg_v_acc.png\")\n",
    "plt.show()"
   ]
  },
  {
   "cell_type": "code",
   "execution_count": null,
   "metadata": {
    "collapsed": true
   },
   "outputs": [],
   "source": []
  }
 ],
 "metadata": {
  "anaconda-cloud": {},
  "kernelspec": {
   "display_name": "Python [conda env:python2]",
   "language": "python",
   "name": "conda-env-python2-py"
  },
  "language_info": {
   "codemirror_mode": {
    "name": "ipython",
    "version": 2
   },
   "file_extension": ".py",
   "mimetype": "text/x-python",
   "name": "python",
   "nbconvert_exporter": "python",
   "pygments_lexer": "ipython2",
   "version": "2.7.12"
  }
 },
 "nbformat": 4,
 "nbformat_minor": 1
}
